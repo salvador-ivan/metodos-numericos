{
 "cells": [
  {
   "cell_type": "markdown",
   "metadata": {},
   "source": [
    "# Método Runge-Kutta 4 en R\n",
    "\n",
    "Salvador I. Márquez Flores"
   ]
  },
  {
   "cell_type": "markdown",
   "metadata": {},
   "source": [
    "##### El objetivo es obtener una aproximación numérica al problema de una ecuación diferencial ordinaria con condiciones iniciales:"
   ]
  },
  {
   "cell_type": "markdown",
   "metadata": {},
   "source": [
    "#### $\\frac{dy}{dx}= f(x,y)$   ;  $\\qquad x \\in [a,b]$ , $\\qquad con \\quad y(a) = \\alpha $"
   ]
  },
  {
   "cell_type": "markdown",
   "metadata": {},
   "source": [
    "##### Se busca generar aproximaciones de la solución y(x) en los puntos de red distribuidos uniformemente (con un tamaño de paso h) en el intervalo [a,b] "
   ]
  },
  {
   "cell_type": "markdown",
   "metadata": {},
   "source": []
  },
  {
   "cell_type": "markdown",
   "metadata": {},
   "source": [
    "Primero, en R, debemos instalar la libreria \"deSolve\", usamos el comando install.packages( ) e introducimos el nombre del paquete que queremos instalar entre comillas."
   ]
  },
  {
   "cell_type": "code",
   "execution_count": null,
   "metadata": {},
   "outputs": [],
   "source": [
    "install.packages(\"deSolve\")"
   ]
  },
  {
   "cell_type": "code",
   "execution_count": 2,
   "metadata": {},
   "outputs": [],
   "source": [
    "# cargamos la libreria: deSolve\n",
    "require(deSolve)"
   ]
  },
  {
   "cell_type": "markdown",
   "metadata": {},
   "source": [
    "##### La estructura y sintaxis en R para resolver la ecuación diferencial con las condiciones señaladas, es de la forma: "
   ]
  },
  {
   "cell_type": "code",
   "execution_count": null,
   "metadata": {},
   "outputs": [],
   "source": [
    "model<-function(x,y,k)\n",
    " {\n",
    " with(as.list(c(y)),\n",
    "  {\n",
    "   dy<-f(x,y) # aquí se sustituye f(x,y) por la función que representa la ecuación diferencial que buscamos resolver.\n",
    "   list(c(dy))})\n",
    " }\n",
    "k<-ko   # k representa cualquier parámetro constante que requiera la ecuación, aquí se asigna su valor ko\n",
    "malla<-seq(a,b,h) # aquí se asignan los valores que representan los puntos red, con tamaño de paso h en el intervalo [a,b]\n",
    "out<-ode(func=model,y=c(y=α),times=malla,parms=k,method=\"rk4\") # aquí y=c(y=α) representa la condición inicial del problema, \n",
    "                        # α se sustituye por el valor numérico de la condición inicial.\n",
    "out"
   ]
  },
  {
   "cell_type": "markdown",
   "metadata": {},
   "source": [
    "##### Ejemplo: Velocidad terminal en medios con arrastre.\n",
    "La ecuación diferencial que rige la velocidad \"v\" de un cuerpo con masa \"m\" y área proyectada \"A\", que cae en un medio de densidad \"ρ\" es: "
   ]
  },
  {
   "cell_type": "markdown",
   "metadata": {},
   "source": [
    "> #### $\\frac{dv}{dt}= g - \\frac{\\rho A v^{2}}{2m}$"
   ]
  },
  {
   "cell_type": "markdown",
   "metadata": {},
   "source": [
    "El objeto adquiere su velocidad terminal de caída cuando no acelera más, es decir, cuando la derivada de la velocidad es cero. Suponga una moneda o un objeto, con m = 0.010 kg, A = 0.00031416 m², que cae de lo alto de un edificio, entonces ρ = 1 kg/m³ "
   ]
  },
  {
   "cell_type": "markdown",
   "metadata": {},
   "source": [
    "La ecuación diferencial queda como:"
   ]
  },
  {
   "cell_type": "markdown",
   "metadata": {},
   "source": [
    "> #### $\\frac{dv}{dt}= g - \\frac{\\rho A v^{2}}{2m} = g - \\frac{1 (0.00031416) v^{2}}{2(0.010)} = g - 0.0157 v^{2}$  [m/s]"
   ]
  },
  {
   "cell_type": "markdown",
   "metadata": {},
   "source": [
    "por simplicidad transformemos v → y, t → x, la ecuación diferencial queda como:\n",
    "> #### $\\frac{dy}{dx}= g - 0.0157 y^{2}$ , con k = 0.0157\n",
    "> #### $\\frac{dy}{dx}= g - k y^{2}$ , con $f(x,y) = g - k y^{2}$, con g = 9.81 y k = 0.0157\n",
    "Como es caída libre la velocidad inicial es cero, queremos calcular la velocidad (v → y) cada segundo y determinar cuál es la velocidad terminal."
   ]
  },
  {
   "cell_type": "code",
   "execution_count": 3,
   "metadata": {},
   "outputs": [
    {
     "data": {
      "text/html": [
       "<table class=\"dataframe\">\n",
       "<caption>A deSolve: 31 × 2 of type dbl</caption>\n",
       "<thead>\n",
       "\t<tr><th scope=col>time</th><th scope=col>y</th></tr>\n",
       "</thead>\n",
       "<tbody>\n",
       "\t<tr><td> 0</td><td> 0.000000</td></tr>\n",
       "\t<tr><td> 1</td><td> 9.333482</td></tr>\n",
       "\t<tr><td> 2</td><td>16.378421</td></tr>\n",
       "\t<tr><td> 3</td><td>20.650407</td></tr>\n",
       "\t<tr><td> 4</td><td>22.909201</td></tr>\n",
       "\t<tr><td> 5</td><td>24.018535</td></tr>\n",
       "\t<tr><td> 6</td><td>24.543776</td></tr>\n",
       "\t<tr><td> 7</td><td>24.788173</td></tr>\n",
       "\t<tr><td> 8</td><td>24.900974</td></tr>\n",
       "\t<tr><td> 9</td><td>24.952841</td></tr>\n",
       "\t<tr><td>10</td><td>24.976650</td></tr>\n",
       "\t<tr><td>11</td><td>24.987570</td></tr>\n",
       "\t<tr><td>12</td><td>24.992577</td></tr>\n",
       "\t<tr><td>13</td><td>24.994873</td></tr>\n",
       "\t<tr><td>14</td><td>24.995925</td></tr>\n",
       "\t<tr><td>15</td><td>24.996407</td></tr>\n",
       "\t<tr><td>16</td><td>24.996628</td></tr>\n",
       "\t<tr><td>17</td><td>24.996729</td></tr>\n",
       "\t<tr><td>18</td><td>24.996776</td></tr>\n",
       "\t<tr><td>19</td><td>24.996797</td></tr>\n",
       "\t<tr><td>20</td><td>24.996807</td></tr>\n",
       "\t<tr><td>21</td><td>24.996811</td></tr>\n",
       "\t<tr><td>22</td><td>24.996813</td></tr>\n",
       "\t<tr><td>23</td><td>24.996814</td></tr>\n",
       "\t<tr><td>24</td><td>24.996815</td></tr>\n",
       "\t<tr><td>25</td><td>24.996815</td></tr>\n",
       "\t<tr><td>26</td><td>24.996815</td></tr>\n",
       "\t<tr><td>27</td><td>24.996815</td></tr>\n",
       "\t<tr><td>28</td><td>24.996815</td></tr>\n",
       "\t<tr><td>29</td><td>24.996815</td></tr>\n",
       "\t<tr><td>30</td><td>24.996815</td></tr>\n",
       "</tbody>\n",
       "</table>\n"
      ],
      "text/latex": [
       "A deSolve: 31 × 2 of type dbl\n",
       "\\begin{tabular}{ll}\n",
       " time & y\\\\\n",
       "\\hline\n",
       "\t  0 &  0.000000\\\\\n",
       "\t  1 &  9.333482\\\\\n",
       "\t  2 & 16.378421\\\\\n",
       "\t  3 & 20.650407\\\\\n",
       "\t  4 & 22.909201\\\\\n",
       "\t  5 & 24.018535\\\\\n",
       "\t  6 & 24.543776\\\\\n",
       "\t  7 & 24.788173\\\\\n",
       "\t  8 & 24.900974\\\\\n",
       "\t  9 & 24.952841\\\\\n",
       "\t 10 & 24.976650\\\\\n",
       "\t 11 & 24.987570\\\\\n",
       "\t 12 & 24.992577\\\\\n",
       "\t 13 & 24.994873\\\\\n",
       "\t 14 & 24.995925\\\\\n",
       "\t 15 & 24.996407\\\\\n",
       "\t 16 & 24.996628\\\\\n",
       "\t 17 & 24.996729\\\\\n",
       "\t 18 & 24.996776\\\\\n",
       "\t 19 & 24.996797\\\\\n",
       "\t 20 & 24.996807\\\\\n",
       "\t 21 & 24.996811\\\\\n",
       "\t 22 & 24.996813\\\\\n",
       "\t 23 & 24.996814\\\\\n",
       "\t 24 & 24.996815\\\\\n",
       "\t 25 & 24.996815\\\\\n",
       "\t 26 & 24.996815\\\\\n",
       "\t 27 & 24.996815\\\\\n",
       "\t 28 & 24.996815\\\\\n",
       "\t 29 & 24.996815\\\\\n",
       "\t 30 & 24.996815\\\\\n",
       "\\end{tabular}\n"
      ],
      "text/markdown": [
       "\n",
       "A deSolve: 31 × 2 of type dbl\n",
       "\n",
       "| time | y |\n",
       "|---|---|\n",
       "|  0 |  0.000000 |\n",
       "|  1 |  9.333482 |\n",
       "|  2 | 16.378421 |\n",
       "|  3 | 20.650407 |\n",
       "|  4 | 22.909201 |\n",
       "|  5 | 24.018535 |\n",
       "|  6 | 24.543776 |\n",
       "|  7 | 24.788173 |\n",
       "|  8 | 24.900974 |\n",
       "|  9 | 24.952841 |\n",
       "| 10 | 24.976650 |\n",
       "| 11 | 24.987570 |\n",
       "| 12 | 24.992577 |\n",
       "| 13 | 24.994873 |\n",
       "| 14 | 24.995925 |\n",
       "| 15 | 24.996407 |\n",
       "| 16 | 24.996628 |\n",
       "| 17 | 24.996729 |\n",
       "| 18 | 24.996776 |\n",
       "| 19 | 24.996797 |\n",
       "| 20 | 24.996807 |\n",
       "| 21 | 24.996811 |\n",
       "| 22 | 24.996813 |\n",
       "| 23 | 24.996814 |\n",
       "| 24 | 24.996815 |\n",
       "| 25 | 24.996815 |\n",
       "| 26 | 24.996815 |\n",
       "| 27 | 24.996815 |\n",
       "| 28 | 24.996815 |\n",
       "| 29 | 24.996815 |\n",
       "| 30 | 24.996815 |\n",
       "\n"
      ],
      "text/plain": [
       "      time y        \n",
       " [1,]  0    0.000000\n",
       " [2,]  1    9.333482\n",
       " [3,]  2   16.378421\n",
       " [4,]  3   20.650407\n",
       " [5,]  4   22.909201\n",
       " [6,]  5   24.018535\n",
       " [7,]  6   24.543776\n",
       " [8,]  7   24.788173\n",
       " [9,]  8   24.900974\n",
       "[10,]  9   24.952841\n",
       "[11,] 10   24.976650\n",
       "[12,] 11   24.987570\n",
       "[13,] 12   24.992577\n",
       "[14,] 13   24.994873\n",
       "[15,] 14   24.995925\n",
       "[16,] 15   24.996407\n",
       "[17,] 16   24.996628\n",
       "[18,] 17   24.996729\n",
       "[19,] 18   24.996776\n",
       "[20,] 19   24.996797\n",
       "[21,] 20   24.996807\n",
       "[22,] 21   24.996811\n",
       "[23,] 22   24.996813\n",
       "[24,] 23   24.996814\n",
       "[25,] 24   24.996815\n",
       "[26,] 25   24.996815\n",
       "[27,] 26   24.996815\n",
       "[28,] 27   24.996815\n",
       "[29,] 28   24.996815\n",
       "[30,] 29   24.996815\n",
       "[31,] 30   24.996815"
      ]
     },
     "metadata": {},
     "output_type": "display_data"
    }
   ],
   "source": [
    "# Resolviendo en R\n",
    "model<-function(x,y,k)\n",
    " {\n",
    " with(as.list(c(y)),\n",
    "  {\n",
    "   dy<- g-k*y^2  # se se sustituyo f(x,y) = g-k*y^2 \n",
    "    list(c(dy))})\n",
    " }\n",
    "g<-9.81 # g es la constante de la aceleración de la gravedad\n",
    "k<-0.0157\n",
    "malla<-seq(0,30,1) # intervalo de [0,30] con un paso de h = 1\n",
    "out<-ode(func=model,y=c(y=0),times=malla,parms=k,method=\"rk4\") # velocidad inicial nula y=c(y=0)\n",
    "out"
   ]
  },
  {
   "cell_type": "markdown",
   "metadata": {},
   "source": [
    "Se observa que la velocidad aumenta hasta aproximadamente el segundo 24 que alcanza su valor máximo, es decir llega a la velocidad terminal que es de 24.996815 m/s"
   ]
  },
  {
   "cell_type": "code",
   "execution_count": 4,
   "metadata": {},
   "outputs": [
    {
     "data": {
      "image/png": "[encoded data removed]",
      "text/plain": [
       "Plot with title \"y\""
      ]
     },
     "metadata": {
      "image/png": {
       "height": 420,
       "width": 420
      }
     },
     "output_type": "display_data"
    }
   ],
   "source": [
    "#graficando la velocidad cada segundo en el intervalo calculado:\n",
    "plot(out)"
   ]
  }
 ],
 "metadata": {
  "kernelspec": {
   "display_name": "R",
   "language": "R",
   "name": "ir"
  },
  "language_info": {
   "codemirror_mode": "r",
   "file_extension": ".r",
   "mimetype": "text/x-r-source",
   "name": "R",
   "pygments_lexer": "r",
   "version": "4.0.0"
  }
 },
 "nbformat": 4,
 "nbformat_minor": 4
}
