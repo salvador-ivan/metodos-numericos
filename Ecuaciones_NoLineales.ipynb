{
 "cells": [
  {
   "cell_type": "markdown",
   "metadata": {},
   "source": [
    "# Ecuaciones no lineales en R.\n",
    "Salvador I. Márquez Flores"
   ]
  },
  {
   "cell_type": "markdown",
   "metadata": {},
   "source": [
    "##### Sea una ecuación algebraica de una incógnita, expresada de la forma: f(x) = 0, donde f(x) es una función no lineal de x. Dicha ecuación no lineal tendrá al menos una raíz dentro del intervalo [a,b], si:"
   ]
  },
  {
   "cell_type": "markdown",
   "metadata": {},
   "source": [
    "#####      ●  sgn(f(a)) ≠ sgn(f(b)), además si la derivada f '(x) no cambia de signo en [a,b] existe una sola raíz."
   ]
  },
  {
   "cell_type": "markdown",
   "metadata": {},
   "source": [
    "\n",
    "Graficante, lo que se observa es que la función f(x) cruza el eje de las abscisas en un punto x* ϵ [a,b], i.e. x* es una raíz de la ecuación f(x) = 0"
   ]
  },
  {
   "cell_type": "markdown",
   "metadata": {},
   "source": [
    "> #####  Ejemplo 1. Determinar una raíz de la ecuación: exp(x) – 4x² = 0"
   ]
  },
  {
   "cell_type": "code",
   "execution_count": 1,
   "metadata": {},
   "outputs": [
    {
     "data": {
      "image/png": "[encoded data removed]",
      "text/plain": [
       "plot without title"
      ]
     },
     "metadata": {
      "image/png": {
       "height": 420,
       "width": 420
      }
     },
     "output_type": "display_data"
    }
   ],
   "source": [
    "# Graficando en R la funcion f(x) = exp(x) – 4x²\n",
    "curve(exp(x)-4*x^2)"
   ]
  },
  {
   "cell_type": "code",
   "execution_count": 2,
   "metadata": {},
   "outputs": [
    {
     "data": {
      "image/png": "[encoded data removed]",
      "text/plain": [
       "plot without title"
      ]
     },
     "metadata": {
      "image/png": {
       "height": 420,
       "width": 420
      }
     },
     "output_type": "display_data"
    }
   ],
   "source": [
    "# para referencia agregemos los ejes del sistema de coordenadas:\n",
    "curve(exp(x)-4*x^2)\n",
    "abline(h=0, v=0, lty=2, col=\"red\")"
   ]
  },
  {
   "cell_type": "markdown",
   "metadata": {},
   "source": [
    "> De acuerdo a lo que se muestra en la gráfica, existe una raíz x* entre 0.6 y 0.8"
   ]
  },
  {
   "cell_type": "code",
   "execution_count": 3,
   "metadata": {},
   "outputs": [
    {
     "data": {
      "text/html": [
       "<dl>\n",
       "\t<dt>$root</dt>\n",
       "\t\t<dd>0.714805912362778</dd>\n",
       "\t<dt>$f.root</dt>\n",
       "\t\t<dd>4.44089209850063e-16</dd>\n",
       "\t<dt>$iter</dt>\n",
       "\t\t<dd>6</dd>\n",
       "\t<dt>$init.it</dt>\n",
       "\t\t<dd>&lt;NA&gt;</dd>\n",
       "\t<dt>$estim.prec</dt>\n",
       "\t\t<dd>3.33066907387547e-16</dd>\n",
       "</dl>\n"
      ],
      "text/latex": [
       "\\begin{description}\n",
       "\\item[\\$root] 0.714805912362778\n",
       "\\item[\\$f.root] 4.44089209850063e-16\n",
       "\\item[\\$iter] 6\n",
       "\\item[\\$init.it] <NA>\n",
       "\\item[\\$estim.prec] 3.33066907387547e-16\n",
       "\\end{description}\n"
      ],
      "text/markdown": [
       "$root\n",
       ":   0.714805912362778\n",
       "$f.root\n",
       ":   4.44089209850063e-16\n",
       "$iter\n",
       ":   6\n",
       "$init.it\n",
       ":   &lt;NA&gt;\n",
       "$estim.prec\n",
       ":   3.33066907387547e-16\n",
       "\n",
       "\n"
      ],
      "text/plain": [
       "$root\n",
       "[1] 0.7148059\n",
       "\n",
       "$f.root\n",
       "[1] 4.440892e-16\n",
       "\n",
       "$iter\n",
       "[1] 6\n",
       "\n",
       "$init.it\n",
       "[1] NA\n",
       "\n",
       "$estim.prec\n",
       "[1] 3.330669e-16\n"
      ]
     },
     "metadata": {},
     "output_type": "display_data"
    }
   ],
   "source": [
    "# Ahora, calculando numéricamente en R el valor de la raíz de la ecuación: exp(x) – 4x² = 0, en el intervalo [0.6, 0.8], usando la función uniroot\n",
    "uniroot(f=function(x) exp(x)-4*x^2, interval= c(0.6,0.8), tol=1.e-20)"
   ]
  },
  {
   "cell_type": "markdown",
   "metadata": {},
   "source": [
    "#####     La solución numérica de la ecuación planteada es $root, por lo tanto x = 0.714805912362778 es la solución buscada."
   ]
  },
  {
   "cell_type": "markdown",
   "metadata": {},
   "source": []
  },
  {
   "cell_type": "markdown",
   "metadata": {},
   "source": [
    "Como parte de los argumentos de la función uniroot, se eligio una tolerancia de 1×10⁻²⁰ (tol=1.e-20), esto representa el grado de convergencia y nivel de aceptación en el cálculo solicitado, con la tolerancia se busca que en el resultado del cálculo  |f(x)|≤ tol"
   ]
  },
  {
   "cell_type": "markdown",
   "metadata": {},
   "source": []
  },
  {
   "cell_type": "markdown",
   "metadata": {},
   "source": [
    "> #####  Ejemplo 2. Determinar una raíz de la ecuación: 3x + sen x = exp(x)"
   ]
  },
  {
   "cell_type": "markdown",
   "metadata": {},
   "source": [
    "Primero escribimos la ecuación en la forma f(x) = 0"
   ]
  },
  {
   "cell_type": "markdown",
   "metadata": {},
   "source": [
    "3x + sen x = exp(x) → 3x + sen x – exp(x) = 0"
   ]
  },
  {
   "cell_type": "code",
   "execution_count": 4,
   "metadata": {},
   "outputs": [
    {
     "data": {
      "image/png": "[encoded data removed]",
      "text/plain": [
       "plot without title"
      ]
     },
     "metadata": {
      "image/png": {
       "height": 420,
       "width": 420
      }
     },
     "output_type": "display_data"
    }
   ],
   "source": [
    "# Graficando en R la funcion f(x) = 3x + sen x – exp(x), y agregando los ejes cartesianos.\n",
    "curve(3*x+sin(x)-exp(x))\n",
    "abline(h=0, v=0, lty=2, col=\"red\")"
   ]
  },
  {
   "cell_type": "markdown",
   "metadata": {},
   "source": [
    "> La gráfica, muestra un cero o raíz x* entre 0.2 y 0.4"
   ]
  },
  {
   "cell_type": "code",
   "execution_count": 5,
   "metadata": {},
   "outputs": [
    {
     "data": {
      "text/html": [
       "<dl>\n",
       "\t<dt>$root</dt>\n",
       "\t\t<dd>0.360421702960324</dd>\n",
       "\t<dt>$f.root</dt>\n",
       "\t\t<dd>0</dd>\n",
       "\t<dt>$iter</dt>\n",
       "\t\t<dd>5</dd>\n",
       "\t<dt>$init.it</dt>\n",
       "\t\t<dd>&lt;NA&gt;</dd>\n",
       "\t<dt>$estim.prec</dt>\n",
       "\t\t<dd>4.89253952518087e-06</dd>\n",
       "</dl>\n"
      ],
      "text/latex": [
       "\\begin{description}\n",
       "\\item[\\$root] 0.360421702960324\n",
       "\\item[\\$f.root] 0\n",
       "\\item[\\$iter] 5\n",
       "\\item[\\$init.it] <NA>\n",
       "\\item[\\$estim.prec] 4.89253952518087e-06\n",
       "\\end{description}\n"
      ],
      "text/markdown": [
       "$root\n",
       ":   0.360421702960324\n",
       "$f.root\n",
       ":   0\n",
       "$iter\n",
       ":   5\n",
       "$init.it\n",
       ":   &lt;NA&gt;\n",
       "$estim.prec\n",
       ":   4.89253952518087e-06\n",
       "\n",
       "\n"
      ],
      "text/plain": [
       "$root\n",
       "[1] 0.3604217\n",
       "\n",
       "$f.root\n",
       "[1] 0\n",
       "\n",
       "$iter\n",
       "[1] 5\n",
       "\n",
       "$init.it\n",
       "[1] NA\n",
       "\n",
       "$estim.prec\n",
       "[1] 4.89254e-06\n"
      ]
     },
     "metadata": {},
     "output_type": "display_data"
    }
   ],
   "source": [
    "# calculamos en R el valor numérico de la raíz de la ecuación 3x + sen x – exp(x) = 0, en el intervalo [0.2, 0.4]\n",
    "uniroot(f=function(x) 3*x+sin(x)-exp(x), interval= c(0.2,0.4), tol=1.e-20)"
   ]
  },
  {
   "cell_type": "markdown",
   "metadata": {},
   "source": [
    "#####     La solución numérica es x = 0.360421702960324"
   ]
  },
  {
   "cell_type": "markdown",
   "metadata": {},
   "source": []
  },
  {
   "cell_type": "markdown",
   "metadata": {},
   "source": [
    "> #####  Ejemplo 3. Determinar una raíz de la ecuación: x – 0.5 – 0.2 sen x = 0"
   ]
  },
  {
   "cell_type": "code",
   "execution_count": 6,
   "metadata": {},
   "outputs": [
    {
     "data": {
      "image/png": "[encoded data removed]",
      "text/plain": [
       "plot without title"
      ]
     },
     "metadata": {
      "image/png": {
       "height": 420,
       "width": 420
      }
     },
     "output_type": "display_data"
    }
   ],
   "source": [
    "# Graficando\n",
    "curve(x-0.5-0.2*sin(x))\n",
    "abline(h=0, v=0, lty=2, col=\"red\")"
   ]
  },
  {
   "cell_type": "markdown",
   "metadata": {},
   "source": [
    "> La gráfica, muestra un cero o raíz x* muy cerca de 0.6, tomaremos el intervalo entre 0.4 y 0.8"
   ]
  },
  {
   "cell_type": "code",
   "execution_count": 7,
   "metadata": {},
   "outputs": [
    {
     "data": {
      "text/html": [
       "<dl>\n",
       "\t<dt>$root</dt>\n",
       "\t\t<dd>0.615468169489965</dd>\n",
       "\t<dt>$f.root</dt>\n",
       "\t\t<dd>-6.93889390390723e-17</dd>\n",
       "\t<dt>$iter</dt>\n",
       "\t\t<dd>5</dd>\n",
       "\t<dt>$init.it</dt>\n",
       "\t\t<dd>&lt;NA&gt;</dd>\n",
       "\t<dt>$estim.prec</dt>\n",
       "\t\t<dd>2.22044604925031e-16</dd>\n",
       "</dl>\n"
      ],
      "text/latex": [
       "\\begin{description}\n",
       "\\item[\\$root] 0.615468169489965\n",
       "\\item[\\$f.root] -6.93889390390723e-17\n",
       "\\item[\\$iter] 5\n",
       "\\item[\\$init.it] <NA>\n",
       "\\item[\\$estim.prec] 2.22044604925031e-16\n",
       "\\end{description}\n"
      ],
      "text/markdown": [
       "$root\n",
       ":   0.615468169489965\n",
       "$f.root\n",
       ":   -6.93889390390723e-17\n",
       "$iter\n",
       ":   5\n",
       "$init.it\n",
       ":   &lt;NA&gt;\n",
       "$estim.prec\n",
       ":   2.22044604925031e-16\n",
       "\n",
       "\n"
      ],
      "text/plain": [
       "$root\n",
       "[1] 0.6154682\n",
       "\n",
       "$f.root\n",
       "[1] -6.938894e-17\n",
       "\n",
       "$iter\n",
       "[1] 5\n",
       "\n",
       "$init.it\n",
       "[1] NA\n",
       "\n",
       "$estim.prec\n",
       "[1] 2.220446e-16\n"
      ]
     },
     "metadata": {},
     "output_type": "display_data"
    }
   ],
   "source": [
    "uniroot(f=function(x) x-0.5-0.2*sin(x), interval= c(0.4,0.8), tol=1.e-20)"
   ]
  },
  {
   "cell_type": "markdown",
   "metadata": {},
   "source": [
    "#####     La solución numérica es x = 0.615468169489965"
   ]
  },
  {
   "cell_type": "markdown",
   "metadata": {},
   "source": []
  },
  {
   "cell_type": "markdown",
   "metadata": {},
   "source": [
    "> #####  Ejemplo 4. Determinar alguna raíz de la ecuación:  x ³ + 5x ² – 15x – 7 = 0 "
   ]
  },
  {
   "cell_type": "code",
   "execution_count": 8,
   "metadata": {
    "scrolled": true
   },
   "outputs": [
    {
     "data": {
      "image/png": "[encoded data removed]",
      "text/plain": [
       "plot without title"
      ]
     },
     "metadata": {
      "image/png": {
       "height": 420,
       "width": 420
      }
     },
     "output_type": "display_data"
    }
   ],
   "source": [
    "# Graficando\n",
    "curve(x^3+5*x^2-15*x-7)\n",
    "abline(h=0, v=0, lty=2, col=\"red\")"
   ]
  },
  {
   "cell_type": "markdown",
   "metadata": {},
   "source": [
    "> La gráfica, no muestra ningún cero o raíz x* en la zona graficada, R solo graficó el intervalo de [0,1], pero ahí no hay raíces, por lo que se debe cambiar el rango de graficación."
   ]
  },
  {
   "cell_type": "code",
   "execution_count": 9,
   "metadata": {},
   "outputs": [
    {
     "data": {
      "image/png": "[encoded data removed]",
      "text/plain": [
       "plot without title"
      ]
     },
     "metadata": {
      "image/png": {
       "height": 420,
       "width": 420
      }
     },
     "output_type": "display_data"
    }
   ],
   "source": [
    "# Graficando en R en el intervalo de [-8,4] (este rango se eligió de forma arbitraria, solo con la intención de buscar posibles raíces) \n",
    "curve(x^3+5*x^2-15*x-7,-8,4)\n",
    "abline(h=0, v=0, lty=2, col=\"red\")"
   ]
  },
  {
   "cell_type": "markdown",
   "metadata": {},
   "source": [
    "> La gráfica muestra tres raíces, una de ellas positiva entre 2 y 4, solo como ejemplo buscaremos el valor de la raíz positiva."
   ]
  },
  {
   "cell_type": "code",
   "execution_count": 10,
   "metadata": {},
   "outputs": [
    {
     "data": {
      "text/html": [
       "<dl>\n",
       "\t<dt>$root</dt>\n",
       "\t\t<dd>2.4142135623731</dd>\n",
       "\t<dt>$f.root</dt>\n",
       "\t\t<dd>7.105427357601e-15</dd>\n",
       "\t<dt>$iter</dt>\n",
       "\t\t<dd>9</dd>\n",
       "\t<dt>$init.it</dt>\n",
       "\t\t<dd>&lt;NA&gt;</dd>\n",
       "\t<dt>$estim.prec</dt>\n",
       "\t\t<dd>8.88178419700125e-16</dd>\n",
       "</dl>\n"
      ],
      "text/latex": [
       "\\begin{description}\n",
       "\\item[\\$root] 2.4142135623731\n",
       "\\item[\\$f.root] 7.105427357601e-15\n",
       "\\item[\\$iter] 9\n",
       "\\item[\\$init.it] <NA>\n",
       "\\item[\\$estim.prec] 8.88178419700125e-16\n",
       "\\end{description}\n"
      ],
      "text/markdown": [
       "$root\n",
       ":   2.4142135623731\n",
       "$f.root\n",
       ":   7.105427357601e-15\n",
       "$iter\n",
       ":   9\n",
       "$init.it\n",
       ":   &lt;NA&gt;\n",
       "$estim.prec\n",
       ":   8.88178419700125e-16\n",
       "\n",
       "\n"
      ],
      "text/plain": [
       "$root\n",
       "[1] 2.414214\n",
       "\n",
       "$f.root\n",
       "[1] 7.105427e-15\n",
       "\n",
       "$iter\n",
       "[1] 9\n",
       "\n",
       "$init.it\n",
       "[1] NA\n",
       "\n",
       "$estim.prec\n",
       "[1] 8.881784e-16\n"
      ]
     },
     "metadata": {},
     "output_type": "display_data"
    }
   ],
   "source": [
    "uniroot(f=function(x) x^3+5*x^2-15*x-7, interval= c(2,4), tol=1.e-20)"
   ]
  },
  {
   "cell_type": "markdown",
   "metadata": {},
   "source": [
    "#####     El valor numérica de la raíz positiva es x = 2.4142135623731"
   ]
  },
  {
   "cell_type": "markdown",
   "metadata": {},
   "source": []
  },
  {
   "cell_type": "markdown",
   "metadata": {},
   "source": [
    "> De acuerdo con el teorema fundamental del álgebra: \"Una función polinomial de grado n tiene n ceros en el conjunto de números complejos, contando ceros repetidos\" (los números reales son un subconjunto de los números complejos)."
   ]
  },
  {
   "cell_type": "markdown",
   "metadata": {},
   "source": [
    "Si se tiene una ecuación que representa los ceros de una función polinomial, se pueden determinar dichos ceros usando la función polyroot, ordenando el polinomio de menor a mayor orden, y usando como argumento los factores; visto de otra forma se escribe el polinomio de forma vectorial."
   ]
  },
  {
   "cell_type": "markdown",
   "metadata": {},
   "source": [
    "Por ejemplo, determinar las raíces de la ecuación:  x ³ + 5 x ² – 15x – 7 = 0 equivale a encontrar los ceros de la función polinomial f(x) =  x ³ + 5x ² – 15x – 7 = 1 x ³ + 5x ² – 15x ¹ – 7 x ⁰ → ordenando de menor a mayor orden: f(x) = – 7 x ⁰ – 15x ¹ + 5 x ² + 1 x ³, equivale vectorialmente →  ( – 7, – 15, 5, 1)"
   ]
  },
  {
   "cell_type": "code",
   "execution_count": 11,
   "metadata": {},
   "outputs": [
    {
     "data": {
      "text/html": [
       "<style>\n",
       ".list-inline {list-style: none; margin:0; padding: 0}\n",
       ".list-inline>li {display: inline-block}\n",
       ".list-inline>li:not(:last-child)::after {content: \"\\00b7\"; padding: 0 .5ex}\n",
       "</style>\n",
       "<ol class=list-inline><li>-4.14213562373095e-01+2e-15i</li><li>2.4142135623731-0i</li><li>-7-0i</li></ol>\n"
      ],
      "text/latex": [
       "\\begin{enumerate*}\n",
       "\\item -4.14213562373095e-01+2e-15i\n",
       "\\item 2.4142135623731-0i\n",
       "\\item -7-0i\n",
       "\\end{enumerate*}\n"
      ],
      "text/markdown": [
       "1. -4.14213562373095e-01+2e-15i\n",
       "2. 2.4142135623731-0i\n",
       "3. -7-0i\n",
       "\n",
       "\n"
      ],
      "text/plain": [
       "[1] -0.4142136+0i  2.4142136-0i -7.0000000-0i"
      ]
     },
     "metadata": {},
     "output_type": "display_data"
    }
   ],
   "source": [
    "# Resolviendo en R, la sintaxis sería:\n",
    "polyroot(c(-7,-15,5,1))"
   ]
  },
  {
   "cell_type": "markdown",
   "metadata": {},
   "source": []
  },
  {
   "cell_type": "markdown",
   "metadata": {},
   "source": [
    "> #####  Ejemplo 5. Determinar todas las raíces de la ecuación:  x ³ + 4 x ² – 10 = 0 "
   ]
  },
  {
   "cell_type": "markdown",
   "metadata": {},
   "source": [
    "La ecuación:  x ³ + 4 x ² – 10 = 0, equivale a los ceros de la función polinomial f(x) = x ³ + 4 x ² – 10 = – 10 x ⁰ + 0 x ¹ + 4 x ² + 1 x ³, equivale vectorialmente → ( – 10, 0, 4, 1)"
   ]
  },
  {
   "cell_type": "code",
   "execution_count": 12,
   "metadata": {},
   "outputs": [
    {
     "data": {
      "text/html": [
       "<style>\n",
       ".list-inline {list-style: none; margin:0; padding: 0}\n",
       ".list-inline>li {display: inline-block}\n",
       ".list-inline>li:not(:last-child)::after {content: \"\\00b7\"; padding: 0 .5ex}\n",
       "</style>\n",
       "<ol class=list-inline><li>1.3652300134141-0i</li><li>-2.68261500670705+0.35825935992404i</li><li>-2.68261500670705-0.35825935992404i</li></ol>\n"
      ],
      "text/latex": [
       "\\begin{enumerate*}\n",
       "\\item 1.3652300134141-0i\n",
       "\\item -2.68261500670705+0.35825935992404i\n",
       "\\item -2.68261500670705-0.35825935992404i\n",
       "\\end{enumerate*}\n"
      ],
      "text/markdown": [
       "1. 1.3652300134141-0i\n",
       "2. -2.68261500670705+0.35825935992404i\n",
       "3. -2.68261500670705-0.35825935992404i\n",
       "\n",
       "\n"
      ],
      "text/plain": [
       "[1]  1.365230-0.000000i -2.682615+0.358259i -2.682615-0.358259i"
      ]
     },
     "metadata": {},
     "output_type": "display_data"
    }
   ],
   "source": [
    "# En R\n",
    "polyroot(c(-10,0,4,1))\n",
    "\n",
    "#Las raíces son:"
   ]
  },
  {
   "cell_type": "markdown",
   "metadata": {},
   "source": []
  }
 ],
 "metadata": {
  "kernelspec": {
   "display_name": "R",
   "language": "R",
   "name": "ir"
  },
  "language_info": {
   "codemirror_mode": "r",
   "file_extension": ".r",
   "mimetype": "text/x-r-source",
   "name": "R",
   "pygments_lexer": "r",
   "version": "4.0.0"
  }
 },
 "nbformat": 4,
 "nbformat_minor": 4
}
